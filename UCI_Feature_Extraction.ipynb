{
  "nbformat": 4,
  "nbformat_minor": 0,
  "metadata": {
    "colab": {
      "name": "UCI_Feature_Extraction.ipynb",
      "provenance": [],
      "collapsed_sections": [],
      "mount_file_id": "13jXCMHzyK0uPeqnmjzTbE_iH_ikJUxUq",
      "authorship_tag": "ABX9TyMq1Pj+qMCwo581S3LPK/hK",
      "include_colab_link": true
    },
    "kernelspec": {
      "name": "python3",
      "display_name": "Python 3"
    }
  },
  "cells": [
    {
      "cell_type": "markdown",
      "metadata": {
        "id": "view-in-github",
        "colab_type": "text"
      },
      "source": [
        "<a href=\"https://colab.research.google.com/github/Vignesh-24/Phishing-attack-detection/blob/main/UCI_Feature_Extraction.ipynb\" target=\"_parent\"><img src=\"https://colab.research.google.com/assets/colab-badge.svg\" alt=\"Open In Colab\"/></a>"
      ]
    },
    {
      "cell_type": "code",
      "metadata": {
        "id": "8AykD2tVUfkm"
      },
      "source": [
        "from urllib.parse import urlparse,urlencode\r\n",
        "import ipaddress\r\n",
        "import re\r\n",
        "from bs4 import BeautifulSoup\r\n",
        "import urllib\r\n",
        "import urllib.request\r\n",
        "from datetime import datetime\r\n",
        "import whois\r\n",
        "from googlesearch import search\r\n",
        "import time"
      ],
      "execution_count": null,
      "outputs": []
    },
    {
      "cell_type": "code",
      "metadata": {
        "id": "tu9ssKSeYPSG"
      },
      "source": [
        "def havingIP(url):\r\n",
        "  if re.match(r'http://\\d{1,3}\\.\\d{1,3}\\.\\d{1,3}\\.\\d{1,3}/.*', url) or re.match(r'https://\\d{1,3}\\.\\d{1,3}\\.\\d{1,3}\\.\\d{1,3}/.*', url):\r\n",
        "    return -1\r\n",
        "  else:\r\n",
        "    return 1"
      ],
      "execution_count": null,
      "outputs": []
    },
    {
      "cell_type": "code",
      "metadata": {
        "colab": {
          "base_uri": "https://localhost:8080/"
        },
        "id": "XfPCSy0AUsGv",
        "outputId": "ff81f0a6-436e-4af9-e9ae-56a11986d822"
      },
      "source": [
        "havingIP(\"http://125.17.181.203/GregaVrbancic/Phishing-Dataset\")"
      ],
      "execution_count": null,
      "outputs": [
        {
          "output_type": "execute_result",
          "data": {
            "text/plain": [
              "-1"
            ]
          },
          "metadata": {
            "tags": []
          },
          "execution_count": 3
        }
      ]
    },
    {
      "cell_type": "code",
      "metadata": {
        "colab": {
          "base_uri": "https://localhost:8080/"
        },
        "id": "InUz-9b-U_9g",
        "outputId": "ca43a68f-af88-44df-d236-2e376dba77b8"
      },
      "source": [
        "havingIP(\"https://github.com/211238773.23/Phishing-Dataset\")"
      ],
      "execution_count": null,
      "outputs": [
        {
          "output_type": "execute_result",
          "data": {
            "text/plain": [
              "1"
            ]
          },
          "metadata": {
            "tags": []
          },
          "execution_count": 4
        }
      ]
    },
    {
      "cell_type": "code",
      "metadata": {
        "colab": {
          "base_uri": "https://localhost:8080/"
        },
        "id": "ZXXW755JVK9v",
        "outputId": "64ee719d-accc-4f84-d9c6-afb99284cce1"
      },
      "source": [
        "havingIP(\"https://125.17.181.203/\")"
      ],
      "execution_count": null,
      "outputs": [
        {
          "output_type": "execute_result",
          "data": {
            "text/plain": [
              "-1"
            ]
          },
          "metadata": {
            "tags": []
          },
          "execution_count": 5
        }
      ]
    },
    {
      "cell_type": "code",
      "metadata": {
        "id": "Vk8UETX-VT5I"
      },
      "source": [
        "def getDomain(url):  \r\n",
        "  domain = urlparse(url).netloc\r\n",
        "  if re.match(r\"^www.\",domain):\r\n",
        "\t       domain = domain.replace(\"www.\",\"\")\r\n",
        "  return domain"
      ],
      "execution_count": null,
      "outputs": []
    },
    {
      "cell_type": "code",
      "metadata": {
        "colab": {
          "base_uri": "https://localhost:8080/",
          "height": 35
        },
        "id": "WinLdiiiVw6Y",
        "outputId": "4a0630ea-7d27-4d48-a683-92de94ee7c47"
      },
      "source": [
        "getDomain(\"https://github.com/GregaVrbancic/Phishing-Dataset\")"
      ],
      "execution_count": null,
      "outputs": [
        {
          "output_type": "execute_result",
          "data": {
            "application/vnd.google.colaboratory.intrinsic+json": {
              "type": "string"
            },
            "text/plain": [
              "'github.com'"
            ]
          },
          "metadata": {
            "tags": []
          },
          "execution_count": 7
        }
      ]
    },
    {
      "cell_type": "code",
      "metadata": {
        "colab": {
          "base_uri": "https://localhost:8080/",
          "height": 35
        },
        "id": "V6rRMVFhV5IR",
        "outputId": "c1a397fd-2448-4abb-caf1-74eaa85fea3d"
      },
      "source": [
        "getDomain(\"125.17.181.203/stjosephscse/\")"
      ],
      "execution_count": null,
      "outputs": [
        {
          "output_type": "execute_result",
          "data": {
            "application/vnd.google.colaboratory.intrinsic+json": {
              "type": "string"
            },
            "text/plain": [
              "''"
            ]
          },
          "metadata": {
            "tags": []
          },
          "execution_count": 8
        }
      ]
    },
    {
      "cell_type": "code",
      "metadata": {
        "id": "iaYBTe7ZWJrO"
      },
      "source": [
        "def getLength(url):\r\n",
        "  urlen=len(url)\r\n",
        "  if urlen < 54:\r\n",
        "    length = 1\r\n",
        "  elif urlen <= 75:\r\n",
        "    length = 0            \r\n",
        "  else:\r\n",
        "    length = -1            \r\n",
        "  return length"
      ],
      "execution_count": null,
      "outputs": []
    },
    {
      "cell_type": "code",
      "metadata": {
        "colab": {
          "base_uri": "https://localhost:8080/"
        },
        "id": "iKfxlgfvav2A",
        "outputId": "d7961d64-94db-4b74-adea-ee74eb027105"
      },
      "source": [
        "getLength(\"125.17.181.203/stjosephscse/\")"
      ],
      "execution_count": null,
      "outputs": [
        {
          "output_type": "execute_result",
          "data": {
            "text/plain": [
              "1"
            ]
          },
          "metadata": {
            "tags": []
          },
          "execution_count": 10
        }
      ]
    },
    {
      "cell_type": "code",
      "metadata": {
        "id": "0_gvV5wRa1Fh"
      },
      "source": [
        "shortening_services = r\"bit\\.ly|goo\\.gl|shorte\\.st|go2l\\.ink|x\\.co|ow\\.ly|t\\.co|tinyurl|tr\\.im|is\\.gd|cli\\.gs|\" \\\r\n",
        "                      r\"yfrog\\.com|migre\\.me|ff\\.im|tiny\\.cc|url4\\.eu|twit\\.ac|su\\.pr|twurl\\.nl|snipurl\\.com|\" \\\r\n",
        "                      r\"short\\.to|BudURL\\.com|ping\\.fm|post\\.ly|Just\\.as|bkite\\.com|snipr\\.com|fic\\.kr|loopt\\.us|\" \\\r\n",
        "                      r\"doiop\\.com|short\\.ie|kl\\.am|wp\\.me|rubyurl\\.com|om\\.ly|to\\.ly|bit\\.do|t\\.co|lnkd\\.in|db\\.tt|\" \\\r\n",
        "                      r\"qr\\.ae|adf\\.ly|goo\\.gl|bitly\\.com|cur\\.lv|tinyurl\\.com|ow\\.ly|bit\\.ly|ity\\.im|q\\.gs|is\\.gd|\" \\\r\n",
        "                      r\"po\\.st|bc\\.vc|twitthis\\.com|u\\.to|j\\.mp|buzurl\\.com|cutt\\.us|u\\.bb|yourls\\.org|x\\.co|\" \\\r\n",
        "                      r\"prettylinkpro\\.com|scrnch\\.me|filoops\\.info|vzturl\\.com|qr\\.net|1url\\.com|tweez\\.me|v\\.gd|\" \\\r\n",
        "                      r\"tr\\.im|link\\.zip\\.net\""
      ],
      "execution_count": null,
      "outputs": []
    },
    {
      "cell_type": "code",
      "metadata": {
        "id": "8cw3FvebbPtK"
      },
      "source": [
        "def tinyURL(url):\r\n",
        "    match=re.search(shortening_services,url)\r\n",
        "    if match:\r\n",
        "        return -1\r\n",
        "    else:\r\n",
        "        return 1"
      ],
      "execution_count": null,
      "outputs": []
    },
    {
      "cell_type": "code",
      "metadata": {
        "colab": {
          "base_uri": "https://localhost:8080/"
        },
        "id": "WlcsIFVrbUR4",
        "outputId": "fa07d93e-9bbb-4b75-c94c-1e876c2c9178"
      },
      "source": [
        "tinyURL(\"https://stackoverflow.com/questions/44113335/extract-domain-from-url-in-python\")"
      ],
      "execution_count": null,
      "outputs": [
        {
          "output_type": "execute_result",
          "data": {
            "text/plain": [
              "1"
            ]
          },
          "metadata": {
            "tags": []
          },
          "execution_count": 13
        }
      ]
    },
    {
      "cell_type": "code",
      "metadata": {
        "colab": {
          "base_uri": "https://localhost:8080/"
        },
        "id": "3NnuQDJ1bZ5w",
        "outputId": "4b2022ed-641e-430c-dd2e-e9a37f42f259"
      },
      "source": [
        "tinyURL(\"http://bit.ly/2YQZj0U\")"
      ],
      "execution_count": null,
      "outputs": [
        {
          "output_type": "execute_result",
          "data": {
            "text/plain": [
              "-1"
            ]
          },
          "metadata": {
            "tags": []
          },
          "execution_count": 14
        }
      ]
    },
    {
      "cell_type": "code",
      "metadata": {
        "id": "EdhftmCWbflf"
      },
      "source": [
        "def haveAtSign(url):\r\n",
        "  if \"@\" in url:\r\n",
        "    at = -1    \r\n",
        "  else:\r\n",
        "    at = 1    \r\n",
        "  return at"
      ],
      "execution_count": null,
      "outputs": []
    },
    {
      "cell_type": "code",
      "metadata": {
        "colab": {
          "base_uri": "https://localhost:8080/"
        },
        "id": "8f2waE73bwEi",
        "outputId": "f2640494-7e41-4791-95ed-638e7b19c1b9"
      },
      "source": [
        "haveAtSign(\"http://hdjshj@jds\")"
      ],
      "execution_count": null,
      "outputs": [
        {
          "output_type": "execute_result",
          "data": {
            "text/plain": [
              "-1"
            ]
          },
          "metadata": {
            "tags": []
          },
          "execution_count": 16
        }
      ]
    },
    {
      "cell_type": "code",
      "metadata": {
        "id": "dNbLICqYb0ax"
      },
      "source": [
        "def redirection(url):\r\n",
        "  pos = url.rfind('//')\r\n",
        "  if pos > 7:\r\n",
        "    return -1\r\n",
        "  else:\r\n",
        "    return 1"
      ],
      "execution_count": null,
      "outputs": []
    },
    {
      "cell_type": "code",
      "metadata": {
        "colab": {
          "base_uri": "https://localhost:8080/"
        },
        "id": "svq3uTQzcPwZ",
        "outputId": "b06817b4-c719-4fb9-fdf9-a0ba32119cd1"
      },
      "source": [
        "redirection(\"https://bit.ly/2YQZj0U\")"
      ],
      "execution_count": null,
      "outputs": [
        {
          "output_type": "execute_result",
          "data": {
            "text/plain": [
              "1"
            ]
          },
          "metadata": {
            "tags": []
          },
          "execution_count": 18
        }
      ]
    },
    {
      "cell_type": "code",
      "metadata": {
        "colab": {
          "base_uri": "https://localhost:8080/"
        },
        "id": "_3bQjB73ccZI",
        "outputId": "888d420a-e1f4-43d0-dfbb-91dd02639fa8"
      },
      "source": [
        "redirection(\"https://bit.ly//2YQZj0U\")"
      ],
      "execution_count": null,
      "outputs": [
        {
          "output_type": "execute_result",
          "data": {
            "text/plain": [
              "-1"
            ]
          },
          "metadata": {
            "tags": []
          },
          "execution_count": 19
        }
      ]
    },
    {
      "cell_type": "code",
      "metadata": {
        "id": "6_iRah9vcgsQ"
      },
      "source": [
        "def prefixSuffix(url):\r\n",
        "    if '-' in urlparse(url).netloc:\r\n",
        "        return -1            \r\n",
        "    else:\r\n",
        "        return 1     "
      ],
      "execution_count": null,
      "outputs": []
    },
    {
      "cell_type": "code",
      "metadata": {
        "colab": {
          "base_uri": "https://localhost:8080/"
        },
        "id": "J0s9ot8OdCgY",
        "outputId": "3f12a144-4b23-4491-f1f4-1ce42b25162a"
      },
      "source": [
        "prefixSuffix(\"https://www.google.com/search?rlz=1C1CHBF_enIN908IN908&sxsrf=ALeKk01lFMKTntl-tPc098sMZ-5metGtNA:1615097292096&q=UCI+machine+learning+repository+phishing+dataset&sa=X&ved=2ahUKEwir0v2iwp3vAhXI4jgGHSMOCvIQ1QIwDXoECBAQAQ&biw=1366&bih=657\")"
      ],
      "execution_count": null,
      "outputs": [
        {
          "output_type": "execute_result",
          "data": {
            "text/plain": [
              "1"
            ]
          },
          "metadata": {
            "tags": []
          },
          "execution_count": 21
        }
      ]
    },
    {
      "cell_type": "code",
      "metadata": {
        "colab": {
          "base_uri": "https://localhost:8080/",
          "height": 35
        },
        "id": "g5PZmPwodTea",
        "outputId": "9d590985-4855-41c1-f718-b4cbbf6e5c2d"
      },
      "source": [
        "getDomain(\"https://github.com/GregaVrbancic/Phishing-Dataset\")"
      ],
      "execution_count": null,
      "outputs": [
        {
          "output_type": "execute_result",
          "data": {
            "application/vnd.google.colaboratory.intrinsic+json": {
              "type": "string"
            },
            "text/plain": [
              "'github.com'"
            ]
          },
          "metadata": {
            "tags": []
          },
          "execution_count": 22
        }
      ]
    },
    {
      "cell_type": "code",
      "metadata": {
        "id": "Qy3FaTZEdxJZ"
      },
      "source": [
        "def getDomainAndSubdomain(url):\r\n",
        "  domain=getDomain(url);\r\n",
        "  countt=domain.count(\".\")\r\n",
        "  if countt<=3:\r\n",
        "    return 1\r\n",
        "  elif countt==4:\r\n",
        "    return 0\r\n",
        "  else:\r\n",
        "    return -1"
      ],
      "execution_count": null,
      "outputs": []
    },
    {
      "cell_type": "code",
      "metadata": {
        "colab": {
          "base_uri": "https://localhost:8080/"
        },
        "id": "gUAoiGx0ebL5",
        "outputId": "c3a59456-7c45-48b1-9d4a-ddf8c529d3f1"
      },
      "source": [
        "getDomainAndSubdomain(\"https://maps.google.com/\")"
      ],
      "execution_count": null,
      "outputs": [
        {
          "output_type": "execute_result",
          "data": {
            "text/plain": [
              "1"
            ]
          },
          "metadata": {
            "tags": []
          },
          "execution_count": 24
        }
      ]
    },
    {
      "cell_type": "code",
      "metadata": {
        "id": "56qreTK0oQ3e"
      },
      "source": [
        "def favicon(wiki, soup, domain):\r\n",
        "    for head in soup.find_all('head'):\r\n",
        "        for head.link in soup.find_all('link', href=True):\r\n",
        "            dots = [x.start() for x in re.finditer(r'\\.', head.link['href'])]\r\n",
        "            return 1 if wiki in head.link['href'] or len(dots) == 1 or domain in head.link['href'] else -1\r\n",
        "    return 1"
      ],
      "execution_count": null,
      "outputs": []
    },
    {
      "cell_type": "code",
      "metadata": {
        "id": "L3-Zo36kj6Ez"
      },
      "source": [
        "def domain_registration_length(domain):\r\n",
        "    try:\r\n",
        "      expiration_date = domain.expiration_date\r\n",
        "      if type(expiration_date)==list:\r\n",
        "        expiration_date=expiration_date[0]\r\n",
        "      today = time.strftime('%Y-%m-%d')\r\n",
        "      today = datetime.strptime(today, '%Y-%m-%d')\r\n",
        "      registration_length = 0\r\n",
        "    except:\r\n",
        "      return -1\r\n",
        "    if expiration_date:\r\n",
        "        registration_length = abs((expiration_date - today).days)\r\n",
        "    return -1 if registration_length / 365 <= 1 else 1"
      ],
      "execution_count": null,
      "outputs": []
    },
    {
      "cell_type": "code",
      "metadata": {
        "id": "gw_UjNKSejx0"
      },
      "source": [
        "def httpDomain(url):\r\n",
        "  domain = urlparse(url).netloc\r\n",
        "  if 'https' in domain:\r\n",
        "    return 1\r\n",
        "  else:\r\n",
        "    return 0"
      ],
      "execution_count": null,
      "outputs": []
    },
    {
      "cell_type": "code",
      "metadata": {
        "id": "ohO-Swsz521k"
      },
      "source": [
        "def isHttp(url):\r\n",
        "  if \"https\"==url[:5]:\r\n",
        "    return 1\r\n",
        "  else:\r\n",
        "    return -1"
      ],
      "execution_count": null,
      "outputs": []
    },
    {
      "cell_type": "code",
      "metadata": {
        "colab": {
          "base_uri": "https://localhost:8080/"
        },
        "id": "UMuXopLnh1Lk",
        "outputId": "68ea3d5d-4070-480d-f773-8fd3e8669d43"
      },
      "source": [
        "httpDomain(\"https://maps.google.com/\")"
      ],
      "execution_count": null,
      "outputs": [
        {
          "output_type": "execute_result",
          "data": {
            "text/plain": [
              "0"
            ]
          },
          "metadata": {
            "tags": []
          },
          "execution_count": 28
        }
      ]
    },
    {
      "cell_type": "code",
      "metadata": {
        "id": "j9G8gnCLpEIO"
      },
      "source": [
        "def request_url(wiki, soup, domain):\r\n",
        "    i = 0\r\n",
        "    success = 0\r\n",
        "    for img in soup.find_all('img', src=True):\r\n",
        "        dots = [x.start() for x in re.finditer(r'\\.', img['src'])]\r\n",
        "        if wiki in img['src'] or domain in img['src'] or len(dots) == 1:\r\n",
        "            success = success + 1\r\n",
        "        i = i + 1\r\n",
        "\r\n",
        "    for audio in soup.find_all('audio', src=True):\r\n",
        "        dots = [x.start() for x in re.finditer(r'\\.', audio['src'])]\r\n",
        "        if wiki in audio['src'] or domain in audio['src'] or len(dots) == 1:\r\n",
        "            success = success + 1\r\n",
        "        i = i + 1\r\n",
        "\r\n",
        "    for embed in soup.find_all('embed', src=True):\r\n",
        "        dots = [x.start() for x in re.finditer(r'\\.', embed['src'])]\r\n",
        "        if wiki in embed['src'] or domain in embed['src'] or len(dots) == 1:\r\n",
        "            success = success + 1\r\n",
        "        i = i + 1\r\n",
        "\r\n",
        "    for i_frame in soup.find_all('i_frame', src=True):\r\n",
        "        dots = [x.start() for x in re.finditer(r'\\.', i_frame['src'])]\r\n",
        "        if wiki in i_frame['src'] or domain in i_frame['src'] or len(dots) == 1:\r\n",
        "            success = success + 1\r\n",
        "        i = i + 1\r\n",
        "\r\n",
        "    try:\r\n",
        "        percentage = success / float(i) * 100\r\n",
        "    except:\r\n",
        "        return 1\r\n",
        "\r\n",
        "    if percentage < 22.0:\r\n",
        "        return 1\r\n",
        "    elif 22.0 <= percentage < 61.0:\r\n",
        "        return 0\r\n",
        "    else:\r\n",
        "        return -1"
      ],
      "execution_count": null,
      "outputs": []
    },
    {
      "cell_type": "code",
      "metadata": {
        "id": "K-ut6SoGl4xT"
      },
      "source": [
        "soup = BeautifulSoup(urllib.request.urlopen(\"https://cse-r17.blogspot.com/2020/10/mg8591-principles-of-management-pom.html\"))"
      ],
      "execution_count": null,
      "outputs": []
    },
    {
      "cell_type": "code",
      "metadata": {
        "colab": {
          "base_uri": "https://localhost:8080/"
        },
        "id": "JN6C7pnLm1YM",
        "outputId": "268e5d07-9a75-4830-e771-ece34069e71f"
      },
      "source": [
        "for link in soup.findAll('a', href=True):\r\n",
        "   print(link['href'])"
      ],
      "execution_count": null,
      "outputs": [
        {
          "output_type": "stream",
          "text": [
            "https://cse-r17.blogspot.com/p/about.html\n",
            "https://cse-r17.blogspot.com/p/contact-us.html\n",
            "https://cse-r17.blogspot.com/p/disclaimer.html\n",
            "https://cse-r17.blogspot.com/p/privacy-policy.html\n",
            "?hl=ar\n",
            "https://www.facebook.com/CSER17\n",
            "https://www.youtube.com/channel/UCnTo76Pl7Q-gTagxIOhl-KQ\n",
            "javascript:;\n",
            "https://cse-r17.blogspot.com/\n",
            "javascript:;\n",
            "/\n",
            "#\n",
            "#\n",
            "https://cse-r17.blogspot.com/\n",
            "https://cse-r17.blogspot.com/search/label/MCQ\n",
            "https://cse-r17.blogspot.com/2020/10/mg8591-principles-of-management-pom.html#comments\n",
            "javascript:;\n",
            "javascript:;\n",
            "javascript:;\n",
            "https://1.bp.blogspot.com/-lyi4oVxBnXU/X5kXkQkQCZI/AAAAAAAAA94/POUieVUpR1kgTr_0kJuk96KGeNWJcC9lACLcBGAsYHQ/s2048/MG8591%2BPrinciples%2Bof%2BManagement.png\n",
            "https://drive.google.com/file/d/1_Q1N2RSMX_qYxFIzbbYMqvUXZ6Ilr_0G/view?usp=sharing\n",
            "https://drive.google.com/file/d/1o1YWZRKEWo7-wONHh6dCc4NIIxsmpWT_/view?usp=sharing\n",
            "https://drive.google.com/file/d/1VqaQxUAjEl-PNof1rVaI3Mva4PQHkPPX/view?usp=sharing\n",
            "https://drive.google.com/file/d/15AdORDuUbWYH5YQYjdy3iT574OB9ffoy/view?usp=sharing\n",
            "https://drive.google.com/file/d/1cfjn559sL3Y50hoaWXN7L-HRHs0xhyM6/view?usp=sharing\n",
            "https://drive.google.com/file/d/1f12lOvf31CmEDsSQwg07e3c7rL4k-CcV/view?usp=sharing\n",
            "https://drive.google.com/file/d/1MKw9OK45dTyBikoujAkX3MLQ5tTVJcKU/view?usp=sharing\n",
            "https://drive.google.com/file/d/1yMFvd_WZwA2c7mzTys9aOKb68SaGy9ij/view?usp=sharing\n",
            "https://cse-r17.blogspot.com/search/label/MCQ\n",
            "https://cse-r17.blogspot.com/search/label/MG8591\n",
            "javascript:;\n",
            "javascript:;\n",
            "javascript:;\n",
            "javascript:;\n",
            "javascript:;\n",
            "javascript:;\n",
            "javascript:;\n",
            "javascript:;\n",
            "https://cse-r17.blogspot.com/2020/11/cs8792-cryptography-and-network.html\n",
            "https://cse-r17.blogspot.com/2020/10/ge8071-disaster-management-notes-two.html\n",
            "https://www.blogger.com/profile/08506187054609165836\n",
            "https://cse-r17.blogspot.com/2020/10/mg8591-principles-of-management-pom.html?showComment=1605093402156#c7165232122871238038\n",
            "https://www.blogger.com/delete-comment.g?blogID=1291551787859235478&postID=7165232122871238038\n",
            "https://www.blogger.com/profile/17209128003509037105\n",
            "https://cse-r17.blogspot.com/2020/10/mg8591-principles-of-management-pom.html?showComment=1609415926157#c1083851263791990205\n",
            "https://www.blogger.com/delete-comment.g?blogID=1291551787859235478&postID=1083851263791990205\n",
            "https://www.blogger.com/profile/14689813149212912093\n",
            "https://cse-r17.blogspot.com/2020/10/mg8591-principles-of-management-pom.html?showComment=1609556748731#c3785539036903900560\n",
            "https://www.blogger.com/delete-comment.g?blogID=1291551787859235478&postID=3785539036903900560\n",
            "https://cse-r17.blogspot.com/2020/10/mg8591-principles-of-management-pom.html?showComment=1611718879553#c5009431261428779907\n",
            "https://www.blogger.com/delete-comment.g?blogID=1291551787859235478&postID=5009431261428779907\n",
            "https://www.blogger.com/profile/06476998908317925534\n",
            "https://cse-r17.blogspot.com/2020/10/mg8591-principles-of-management-pom.html?showComment=1612013022800#c6188136997681893106\n",
            "https://www.blogger.com/delete-comment.g?blogID=1291551787859235478&postID=6188136997681893106\n",
            "https://www.blogger.com/profile/06597605402045950602\n",
            "https://cse-r17.blogspot.com/2020/10/mg8591-principles-of-management-pom.html?showComment=1612402563414#c1846041953830134545\n",
            "https://www.blogger.com/delete-comment.g?blogID=1291551787859235478&postID=1846041953830134545\n",
            "https://www.blogger.com/profile/18268690625683433930\n",
            "https://cse-r17.blogspot.com/2020/10/mg8591-principles-of-management-pom.html?showComment=1612779804081#c8806783912961279292\n",
            "https://www.blogger.com/delete-comment.g?blogID=1291551787859235478&postID=8806783912961279292\n",
            "https://www.blogger.com/comment-iframe.g?blogID=1291551787859235478&postID=2922514033881971749\n",
            "https://cse-r17.blogspot.com/search/label/ANNA%20UNIVERSITY\n",
            "https://cse-r17.blogspot.com/search/label/BE8255\n",
            "https://cse-r17.blogspot.com/search/label/CE5701\n",
            "https://cse-r17.blogspot.com/search/label/CE8394\n",
            "https://cse-r17.blogspot.com/search/label/CE8501\n",
            "https://cse-r17.blogspot.com/search/label/CE8502\n",
            "https://cse-r17.blogspot.com/search/label/CE8591\n",
            "https://cse-r17.blogspot.com/search/label/CE8702\n",
            "https://cse-r17.blogspot.com/search/label/CE8703\n",
            "https://cse-r17.blogspot.com/search/label/CIVIL\n",
            "https://cse-r17.blogspot.com/search/label/CS8071\n",
            "https://cse-r17.blogspot.com/search/label/CS8075\n",
            "https://cse-r17.blogspot.com/search/label/CS8083\n",
            "https://cse-r17.blogspot.com/search/label/CS8091\n",
            "https://cse-r17.blogspot.com/search/label/CS8251\n",
            "https://cse-r17.blogspot.com/search/label/CS8391\n",
            "https://cse-r17.blogspot.com/search/label/CS8451\n",
            "https://cse-r17.blogspot.com/search/label/CS8491\n",
            "https://cse-r17.blogspot.com/search/label/CS8492\n",
            "https://cse-r17.blogspot.com/search/label/CS8493\n",
            "https://cse-r17.blogspot.com/search/label/CS8494\n",
            "https://cse-r17.blogspot.com/search/label/CS8501\n",
            "https://cse-r17.blogspot.com/search/label/CS8591\n",
            "https://cse-r17.blogspot.com/search/label/CS8592\n",
            "https://cse-r17.blogspot.com/search/label/CS8601\n",
            "https://cse-r17.blogspot.com/search/label/CS8603\n",
            "https://cse-r17.blogspot.com/search/label/CS8791\n",
            "https://cse-r17.blogspot.com/search/label/CS8792\n",
            "https://cse-r17.blogspot.com/search/label/CSE\n",
            "https://cse-r17.blogspot.com/search/label/CSE.MCQ\n",
            "https://cse-r17.blogspot.com/search/label/CY8151\n",
            "https://cse-r17.blogspot.com/search/label/EC807\n",
            "https://cse-r17.blogspot.com/search/label/EC8351\n",
            "https://cse-r17.blogspot.com/search/label/EC8352\n",
            "https://cse-r17.blogspot.com/search/label/EC8391\n",
            "https://cse-r17.blogspot.com/search/label/EC8392\n",
            "https://cse-r17.blogspot.com/search/label/EC8393\n",
            "https://cse-r17.blogspot.com/search/label/EC8394\n",
            "https://cse-r17.blogspot.com/search/label/EC8501\n",
            "https://cse-r17.blogspot.com/search/label/EC8551\n",
            "https://cse-r17.blogspot.com/search/label/EC8552\n",
            "https://cse-r17.blogspot.com/search/label/EC8553\n",
            "https://cse-r17.blogspot.com/search/label/EC8691\n",
            "https://cse-r17.blogspot.com/search/label/EC8701\n",
            "https://cse-r17.blogspot.com/search/label/EC8702\n",
            "https://cse-r17.blogspot.com/search/label/EC8751\n",
            "https://cse-r17.blogspot.com/search/label/EC8791\n",
            "https://cse-r17.blogspot.com/search/label/ECE\n",
            "https://cse-r17.blogspot.com/search/label/EE8353\n",
            "https://cse-r17.blogspot.com/search/label/EEE\n",
            "https://cse-r17.blogspot.com/search/label/ELECTIVE\n",
            "https://cse-r17.blogspot.com/search/label/EN8491\n",
            "https://cse-r17.blogspot.com/search/label/GE8071\n",
            "https://cse-r17.blogspot.com/search/label/GE8151\n",
            "https://cse-r17.blogspot.com/search/label/GE8152\n",
            "https://cse-r17.blogspot.com/search/label/IT\n",
            "https://cse-r17.blogspot.com/search/label/IT8075\n",
            "https://cse-r17.blogspot.com/search/label/IT8201\n",
            "https://cse-r17.blogspot.com/search/label/IT8501\n",
            "https://cse-r17.blogspot.com/search/label/MA8151\n",
            "https://cse-r17.blogspot.com/search/label/MA8251\n",
            "https://cse-r17.blogspot.com/search/label/MA8353\n",
            "https://cse-r17.blogspot.com/search/label/MA8402\n",
            "https://cse-r17.blogspot.com/search/label/MA8551\n",
            "https://cse-r17.blogspot.com/search/label/MCQ\n",
            "https://cse-r17.blogspot.com/search/label/ME8351\n",
            "https://cse-r17.blogspot.com/search/label/ME8391\n",
            "https://cse-r17.blogspot.com/search/label/ME8501\n",
            "https://cse-r17.blogspot.com/search/label/ME8593\n",
            "https://cse-r17.blogspot.com/search/label/ME8594\n",
            "https://cse-r17.blogspot.com/search/label/ME8595\n",
            "https://cse-r17.blogspot.com/search/label/ME8791\n",
            "https://cse-r17.blogspot.com/search/label/ME8792\n",
            "https://cse-r17.blogspot.com/search/label/ME8793\n",
            "https://cse-r17.blogspot.com/search/label/MECH\n",
            "https://cse-r17.blogspot.com/search/label/MG8591\n",
            "https://cse-r17.blogspot.com/search/label/ND2020\n",
            "https://cse-r17.blogspot.com/search/label/OAN551\n",
            "https://cse-r17.blogspot.com/search/label/OBT554\n",
            "https://cse-r17.blogspot.com/search/label/OCY751\n",
            "https://cse-r17.blogspot.com/search/label/OME752\n",
            "https://cse-r17.blogspot.com/search/label/OME753\n",
            "https://cse-r17.blogspot.com/search/label/OPEN-ELECTIVE\n",
            "https://cse-r17.blogspot.com/search/label/PH8151\n",
            "https://cse-r17.blogspot.com/search/label/PH8252\n",
            "https://cse-r17.blogspot.com/search/label/RESULTS\n",
            "https://cse-r17.blogspot.com/search/label/SEM-1\n",
            "https://cse-r17.blogspot.com/search/label/SEM-2\n",
            "https://cse-r17.blogspot.com/search/label/SEM-3\n",
            "https://cse-r17.blogspot.com/search/label/SEM-4\n",
            "https://cse-r17.blogspot.com/search/label/SEM-5\n",
            "https://cse-r17.blogspot.com/search/label/SEM-6\n",
            "https://cse-r17.blogspot.com/search/label/SEM-7\n",
            "https://cse-r17.blogspot.com/2020/11/ma8551-algebra-and-number-theory-ant.html\n",
            "https://cse-r17.blogspot.com/2020/11/computer-science-and-engineering-cse.html\n",
            "https://cse-r17.blogspot.com/2020/12/ma8151-engineering-mathematics-1-mcq.html\n",
            "https://cse-r17.blogspot.com/\n",
            "https://www.facebook.com/CSER17\n",
            "https://www.youtube.com/channel/UCnTo76Pl7Q-gTagxIOhl-KQ\n",
            "https://www.templateify.com/\n",
            "/\n",
            "https://cse-r17.blogspot.com/p/about.html\n",
            "https://cse-r17.blogspot.com/p/contact-us.html\n",
            "https://cse-r17.blogspot.com/p/privacy-policy.html\n",
            "https://cse-r17.blogspot.com/p/disclaimer.html\n",
            "javascript:;\n",
            "javascript:;\n"
          ],
          "name": "stdout"
        }
      ]
    },
    {
      "cell_type": "code",
      "metadata": {
        "id": "AEouj5efnIpb"
      },
      "source": [
        "def URLAnchor(url):\r\n",
        "  soup = BeautifulSoup(urllib.request.urlopen(url))\r\n",
        "  total=0\r\n",
        "  diff=0\r\n",
        "  same=0\r\n",
        "  domain=getDomain(url)\r\n",
        "  for link in soup.findAll('a', href=True):\r\n",
        "    curdomain=getDomain(link['href'])\r\n",
        "    if curdomain==\"\" or curdomain==domain:\r\n",
        "      same+=1\r\n",
        "    else:\r\n",
        "      diff+=1\r\n",
        "    total+=1\r\n",
        "  samepercent=(same/total)*100\r\n",
        "  diffpercent=(diff/total)*100\r\n",
        "  if diffpercent <= 31.0:\r\n",
        "    return 1\r\n",
        "  elif diffpercent <= 67.0:\r\n",
        "    return 0\r\n",
        "  else:\r\n",
        "    return -1"
      ],
      "execution_count": null,
      "outputs": []
    },
    {
      "cell_type": "code",
      "metadata": {
        "colab": {
          "base_uri": "https://localhost:8080/"
        },
        "id": "wxcvr9J7oEjc",
        "outputId": "27422915-e19b-4161-f30c-b14ffefd057b"
      },
      "source": [
        "URLAnchor(\"https://stackoverflow.com/questions/13240700/python-beautifulsoup-to-find-all-a-href-with-specific-anchor-text\")"
      ],
      "execution_count": null,
      "outputs": [
        {
          "output_type": "stream",
          "text": [
            "44.106463878327 55.893536121673\n"
          ],
          "name": "stdout"
        },
        {
          "output_type": "execute_result",
          "data": {
            "text/plain": [
              "0"
            ]
          },
          "metadata": {
            "tags": []
          },
          "execution_count": 33
        }
      ]
    },
    {
      "cell_type": "code",
      "metadata": {
        "id": "Wl30Zi77qWio"
      },
      "source": [
        "def LinksMetaScript(url):\r\n",
        "  soup = BeautifulSoup(urllib.request.urlopen(url))\r\n",
        "  total=0\r\n",
        "  diff=0\r\n",
        "  same=0\r\n",
        "  domain=getDomain(url)\r\n",
        "  for link in soup.findAll('script',src=True):\r\n",
        "    curdomain=getDomain(link['src'])\r\n",
        "    if curdomain==\"\" or curdomain==domain:\r\n",
        "      same+=1\r\n",
        "    else:\r\n",
        "      diff+=1\r\n",
        "    total+=1\r\n",
        "  for link in soup.findAll('link',href=True):\r\n",
        "    curdomain=getDomain(link['href'])\r\n",
        "    if curdomain==\"\" or curdomain==domain:\r\n",
        "      same+=1\r\n",
        "    else:\r\n",
        "      diff+=1\r\n",
        "    total+=1\r\n",
        "  for link in soup.findAll('meta',url=True):\r\n",
        "    curdomain=getDomain(link['url'])\r\n",
        "    if curdomain==\"\" or curdomain==domain:\r\n",
        "      same+=1\r\n",
        "    else:\r\n",
        "      diff+=1\r\n",
        "    total+=1\r\n",
        "  \r\n",
        "  samepercent=(same/total)*100\r\n",
        "  diffpercent=(diff/total)*100\r\n",
        "  if diffpercent <= 17.0:\r\n",
        "    return 1\r\n",
        "  elif diffpercent <= 81.0:\r\n",
        "    return 0\r\n",
        "  else:\r\n",
        "    return -1\r\n",
        "\r\n"
      ],
      "execution_count": null,
      "outputs": []
    },
    {
      "cell_type": "code",
      "metadata": {
        "colab": {
          "base_uri": "https://localhost:8080/"
        },
        "id": "bPeq70liqYoM",
        "outputId": "997330d8-41cf-459a-acb6-bbcc17f402fe"
      },
      "source": [
        "LinksMetaScript(\"https://stackoverflow.com/questions/13240700/python-beautifulsoup-to-find-all-a-href-with-specific-anchor-text\")"
      ],
      "execution_count": null,
      "outputs": [
        {
          "output_type": "execute_result",
          "data": {
            "text/plain": [
              "0"
            ]
          },
          "metadata": {
            "tags": []
          },
          "execution_count": 35
        }
      ]
    },
    {
      "cell_type": "code",
      "metadata": {
        "id": "WuE-qXK_pyxt"
      },
      "source": [
        "def sfh(wiki, soup, domain):\r\n",
        "    for form in soup.find_all('form', action=True):\r\n",
        "        if form['action'] == \"\" or form['action'] == \"about:blank\":\r\n",
        "            return -1\r\n",
        "        elif wiki not in form['action'] and domain not in form['action']:\r\n",
        "            return 0\r\n",
        "        else:\r\n",
        "            return 1\r\n",
        "    return 1"
      ],
      "execution_count": null,
      "outputs": []
    },
    {
      "cell_type": "code",
      "metadata": {
        "id": "qWXYgoNfqDCA"
      },
      "source": [
        "def submitting_to_email(soup):\r\n",
        "    for form in soup.find_all('form', action=True):\r\n",
        "        return -1 if \"mailto:\" in form['action'] else 1\r\n",
        "    # In case there is no form in the soup, then it is safe to return 1.\r\n",
        "    return 1"
      ],
      "execution_count": null,
      "outputs": []
    },
    {
      "cell_type": "code",
      "metadata": {
        "colab": {
          "base_uri": "https://localhost:8080/"
        },
        "id": "aWDQeRlSqGZH",
        "outputId": "b32cc6af-3700-44f0-cd2a-6b1b23d5b718"
      },
      "source": [
        "submitting_to_email(soup)"
      ],
      "execution_count": null,
      "outputs": [
        {
          "output_type": "execute_result",
          "data": {
            "text/plain": [
              "1"
            ]
          },
          "metadata": {
            "tags": []
          },
          "execution_count": 38
        }
      ]
    },
    {
      "cell_type": "code",
      "metadata": {
        "id": "_oYUr68jqcSe"
      },
      "source": [
        "def abnormal_url(domain, url):\r\n",
        "    hostname = domain\r\n",
        "    match = re.search(hostname, url)\r\n",
        "    return 1 if match else -1"
      ],
      "execution_count": null,
      "outputs": []
    },
    {
      "cell_type": "code",
      "metadata": {
        "colab": {
          "base_uri": "https://localhost:8080/"
        },
        "id": "6IGXt0B7tvmo",
        "outputId": "5d9e82a8-8980-4adb-f4f9-e4557490b3b8"
      },
      "source": [
        "pip install python-whois"
      ],
      "execution_count": null,
      "outputs": [
        {
          "output_type": "stream",
          "text": [
            "Requirement already satisfied: python-whois in /usr/local/lib/python3.7/dist-packages (0.7.3)\n",
            "Requirement already satisfied: future in /usr/local/lib/python3.7/dist-packages (from python-whois) (0.16.0)\n"
          ],
          "name": "stdout"
        }
      ]
    },
    {
      "cell_type": "code",
      "metadata": {
        "colab": {
          "base_uri": "https://localhost:8080/"
        },
        "id": "T_8SOfEut4d2",
        "outputId": "63f4f6e3-035d-4223-e465-6c4cce429f66"
      },
      "source": [
        "domain=whois.whois('github.com')\r\n",
        "print(domain)\r\n",
        "abnormal_url(domain['domain_name'][1],\"https://github.com/shreyagopal/Phishing-Website-Detection-by-Machine-Learning-Techniques/\")"
      ],
      "execution_count": null,
      "outputs": [
        {
          "output_type": "stream",
          "text": [
            "{\n",
            "  \"domain_name\": [\n",
            "    \"GITHUB.COM\",\n",
            "    \"github.com\"\n",
            "  ],\n",
            "  \"registrar\": \"MarkMonitor, Inc.\",\n",
            "  \"whois_server\": \"whois.markmonitor.com\",\n",
            "  \"referral_url\": null,\n",
            "  \"updated_date\": [\n",
            "    \"2020-09-08 09:18:27\",\n",
            "    \"2020-09-08 02:18:27\"\n",
            "  ],\n",
            "  \"creation_date\": [\n",
            "    \"2007-10-09 18:20:50\",\n",
            "    \"2007-10-09 11:20:50\"\n",
            "  ],\n",
            "  \"expiration_date\": [\n",
            "    \"2022-10-09 18:20:50\",\n",
            "    \"2022-10-09 00:00:00\"\n",
            "  ],\n",
            "  \"name_servers\": [\n",
            "    \"DNS1.P08.NSONE.NET\",\n",
            "    \"DNS2.P08.NSONE.NET\",\n",
            "    \"DNS3.P08.NSONE.NET\",\n",
            "    \"DNS4.P08.NSONE.NET\",\n",
            "    \"NS-1283.AWSDNS-32.ORG\",\n",
            "    \"NS-1707.AWSDNS-21.CO.UK\",\n",
            "    \"NS-421.AWSDNS-52.COM\",\n",
            "    \"NS-520.AWSDNS-01.NET\",\n",
            "    \"ns-520.awsdns-01.net\",\n",
            "    \"dns3.p08.nsone.net\",\n",
            "    \"dns1.p08.nsone.net\",\n",
            "    \"dns2.p08.nsone.net\",\n",
            "    \"ns-421.awsdns-52.com\",\n",
            "    \"dns4.p08.nsone.net\",\n",
            "    \"ns-1283.awsdns-32.org\",\n",
            "    \"ns-1707.awsdns-21.co.uk\"\n",
            "  ],\n",
            "  \"status\": [\n",
            "    \"clientDeleteProhibited https://icann.org/epp#clientDeleteProhibited\",\n",
            "    \"clientTransferProhibited https://icann.org/epp#clientTransferProhibited\",\n",
            "    \"clientUpdateProhibited https://icann.org/epp#clientUpdateProhibited\",\n",
            "    \"clientUpdateProhibited (https://www.icann.org/epp#clientUpdateProhibited)\",\n",
            "    \"clientTransferProhibited (https://www.icann.org/epp#clientTransferProhibited)\",\n",
            "    \"clientDeleteProhibited (https://www.icann.org/epp#clientDeleteProhibited)\"\n",
            "  ],\n",
            "  \"emails\": [\n",
            "    \"abusecomplaints@markmonitor.com\",\n",
            "    \"whoisrequest@markmonitor.com\"\n",
            "  ],\n",
            "  \"dnssec\": \"unsigned\",\n",
            "  \"name\": null,\n",
            "  \"org\": \"GitHub, Inc.\",\n",
            "  \"address\": null,\n",
            "  \"city\": null,\n",
            "  \"state\": \"CA\",\n",
            "  \"zipcode\": null,\n",
            "  \"country\": \"US\"\n",
            "}\n"
          ],
          "name": "stdout"
        },
        {
          "output_type": "execute_result",
          "data": {
            "text/plain": [
              "1"
            ]
          },
          "metadata": {
            "tags": []
          },
          "execution_count": 70
        }
      ]
    },
    {
      "cell_type": "code",
      "metadata": {
        "id": "RCVPMSJwtDon"
      },
      "source": [
        "def forwarding(response):\r\n",
        "  if response == \"\":\r\n",
        "    return -1\r\n",
        "  else:\r\n",
        "    if len(response.history) <= 1:\r\n",
        "      return 1\r\n",
        "    elif len(response.history) <= 4:\r\n",
        "      return 0\r\n",
        "    return -1"
      ],
      "execution_count": null,
      "outputs": []
    },
    {
      "cell_type": "code",
      "metadata": {
        "id": "ZF721P1hv8LJ"
      },
      "source": [
        "def rightClick(response):\r\n",
        "  if response == \"\":\r\n",
        "    return -1\r\n",
        "  else:\r\n",
        "    if re.findall(r\"event.button ?== ?2\", response.text):\r\n",
        "      return -1\r\n",
        "    else:\r\n",
        "      return 1"
      ],
      "execution_count": null,
      "outputs": []
    },
    {
      "cell_type": "code",
      "metadata": {
        "id": "YyXhUtSsv-uF"
      },
      "source": [
        "def iframe(response):\r\n",
        "  if response == \"\":\r\n",
        "      return -1\r\n",
        "  else:\r\n",
        "      if re.findall(r\"[<iframe>|<frameBorder>]\", response.text):\r\n",
        "          return -1\r\n",
        "      else:\r\n",
        "          return 1"
      ],
      "execution_count": null,
      "outputs": []
    },
    {
      "cell_type": "code",
      "metadata": {
        "id": "Ja3LiFaUwGCu"
      },
      "source": [
        "def mouseOver(response): \r\n",
        "  if response == \"\" :\r\n",
        "    return -1\r\n",
        "  else:\r\n",
        "    if re.findall(\"<script>.+onmouseover.+</script>\", response.text):\r\n",
        "      return -1\r\n",
        "    else:\r\n",
        "      return 1"
      ],
      "execution_count": null,
      "outputs": []
    },
    {
      "cell_type": "code",
      "metadata": {
        "id": "jJixWa-Lwxjo"
      },
      "source": [
        "def google_index(url):\r\n",
        "    site = search(url, 5)\r\n",
        "    return 1 if site else -1"
      ],
      "execution_count": null,
      "outputs": []
    },
    {
      "cell_type": "code",
      "metadata": {
        "id": "83iFEGt9xpnK"
      },
      "source": [
        "def web_traffic(url):\r\n",
        "    try:\r\n",
        "        rank =BeautifulSoup(urllib.request.urlopen(\"http://data.alexa.com/data?cli=10&dat=s&url=\" + url).read(), \"xml\").find(\"REACH\")['RANK']\r\n",
        "    except:\r\n",
        "        return -1\r\n",
        "    rank = int(rank)\r\n",
        "    return 1 if rank < 100000 else 0"
      ],
      "execution_count": null,
      "outputs": []
    },
    {
      "cell_type": "code",
      "metadata": {
        "id": "Cx9OBj5-yBu3"
      },
      "source": [
        "def age_of_domain(domain):\r\n",
        "    try:\r\n",
        "      creation_date = domain.creation_date\r\n",
        "      expiration_date = domain.expiration_date\r\n",
        "      if type(expiration_date)==list:\r\n",
        "        expiration_date=expiration_date[0]\r\n",
        "      if type(creation_date)==list:\r\n",
        "        creation_date=creation_date[0]\r\n",
        "      ageofdomain = 0\r\n",
        "      if expiration_date:\r\n",
        "          ageofdomain = abs((expiration_date - creation_date).days)\r\n",
        "      return -1 if ageofdomain / 30 < 6 else 1\r\n",
        "    except:\r\n",
        "      return -1\r\n",
        "    "
      ],
      "execution_count": null,
      "outputs": []
    },
    {
      "cell_type": "code",
      "metadata": {
        "colab": {
          "base_uri": "https://localhost:8080/"
        },
        "id": "Vjf2KXjRDEXL",
        "outputId": "1e3d2a3c-58a3-49a0-ddc1-1a8226358ffd"
      },
      "source": [
        "domain=whois.whois('github.com')\r\n",
        "age_of_domain(domain)"
      ],
      "execution_count": null,
      "outputs": [
        {
          "output_type": "execute_result",
          "data": {
            "text/plain": [
              "1"
            ]
          },
          "metadata": {
            "tags": []
          },
          "execution_count": 40
        }
      ]
    },
    {
      "cell_type": "code",
      "metadata": {
        "id": "L-ffObyxyIvC"
      },
      "source": [
        "def statistical_report(url, hostname):\r\n",
        "    try:\r\n",
        "        ip_address = socket.gethostbyname(hostname)\r\n",
        "    except:\r\n",
        "        return -1\r\n",
        "    url_match = re.search(r'at\\.ua|usa\\.cc|baltazarpresentes\\.com\\.br|pe\\.hu|esy\\.es|hol\\.es|sweddy\\.com|myjino\\.ru|96\\.lt|ow\\.ly', url)\r\n",
        "    ip_match = re.search(\r\n",
        "        '146\\.112\\.61\\.108|213\\.174\\.157\\.151|121\\.50\\.168\\.88|192\\.185\\.217\\.116|78\\.46\\.211\\.158|181\\.174\\.165\\.13|46\\.242\\.145\\.103|121\\.50\\.168\\.40|83\\.125\\.22\\.219|46\\.242\\.145\\.98|'\r\n",
        "        '107\\.151\\.148\\.44|107\\.151\\.148\\.107|64\\.70\\.19\\.203|199\\.184\\.144\\.27|107\\.151\\.148\\.108|107\\.151\\.148\\.109|119\\.28\\.52\\.61|54\\.83\\.43\\.69|52\\.69\\.166\\.231|216\\.58\\.192\\.225|'\r\n",
        "        '118\\.184\\.25\\.86|67\\.208\\.74\\.71|23\\.253\\.126\\.58|104\\.239\\.157\\.210|175\\.126\\.123\\.219|141\\.8\\.224\\.221|10\\.10\\.10\\.10|43\\.229\\.108\\.32|103\\.232\\.215\\.140|69\\.172\\.201\\.153|'\r\n",
        "        '216\\.218\\.185\\.162|54\\.225\\.104\\.146|103\\.243\\.24\\.98|199\\.59\\.243\\.120|31\\.170\\.160\\.61|213\\.19\\.128\\.77|62\\.113\\.226\\.131|208\\.100\\.26\\.234|195\\.16\\.127\\.102|195\\.16\\.127\\.157|'\r\n",
        "        '34\\.196\\.13\\.28|103\\.224\\.212\\.222|172\\.217\\.4\\.225|54\\.72\\.9\\.51|192\\.64\\.147\\.141|198\\.200\\.56\\.183|23\\.253\\.164\\.103|52\\.48\\.191\\.26|52\\.214\\.197\\.72|87\\.98\\.255\\.18|209\\.99\\.17\\.27|'\r\n",
        "        '216\\.38\\.62\\.18|104\\.130\\.124\\.96|47\\.89\\.58\\.141|78\\.46\\.211\\.158|54\\.86\\.225\\.156|54\\.82\\.156\\.19|37\\.157\\.192\\.102|204\\.11\\.56\\.48|110\\.34\\.231\\.42',\r\n",
        "        ip_address)\r\n",
        "    if url_match:\r\n",
        "        return -1\r\n",
        "    elif ip_match:\r\n",
        "        return -1\r\n",
        "    else:\r\n",
        "        return 1"
      ],
      "execution_count": null,
      "outputs": []
    },
    {
      "cell_type": "code",
      "metadata": {
        "id": "Y4Q-niXxyp_r"
      },
      "source": [
        "def AddressBarFeatures(url,domain_name,soup):\r\n",
        "  features=[]\r\n",
        "  features.append(havingIP(url))\r\n",
        "  features.append(getLength(url))\r\n",
        "  features.append(tinyURL(url))\r\n",
        "  features.append(haveAtSign(url))\r\n",
        "  features.append(redirection(url))\r\n",
        "  features.append(prefixSuffix(url))\r\n",
        "  features.append(getDomainAndSubdomain(url))\r\n",
        "  features.append(isHttp(url))\r\n",
        "  features.append(domain_registration_length(whois.whois(urlparse(url).netloc)))\r\n",
        "  features.append(favicon(url,soup,domain_name))\r\n",
        "  features.append(httpDomain(url))\r\n",
        "  return features"
      ],
      "execution_count": null,
      "outputs": []
    },
    {
      "cell_type": "code",
      "metadata": {
        "colab": {
          "base_uri": "https://localhost:8080/"
        },
        "id": "8N-0jgpl21yh",
        "outputId": "b52b68a4-4a11-41a3-e3bf-2556086d7813"
      },
      "source": [
        "url=\"https://github.com/shreyagopal/Phishing-Website-Detection-by-Machine-Learning-Techniques/\"\r\n",
        "soup=BeautifulSoup(urllib.request.urlopen(url))\r\n",
        "domain_name=getDomain(url)\r\n",
        "features=AddressBarFeatures(url,domain_name,soup)\r\n",
        "print(features,sep=\"\\n\")"
      ],
      "execution_count": null,
      "outputs": [
        {
          "output_type": "stream",
          "text": [
            "[1, -1, 1, 1, 1, 1, 1, 1, 1, -1, 0]\n"
          ],
          "name": "stdout"
        }
      ]
    },
    {
      "cell_type": "code",
      "metadata": {
        "id": "mDZjJm9g7Jg1"
      },
      "source": [
        "def AbnormalFeatures(features,url,domain_name,soup):\r\n",
        "  features.append(request_url(url,soup,domain_name))\r\n",
        "  features.append(URLAnchor(url))\r\n",
        "  features.append(LinksMetaScript(url))\r\n",
        "  features.append(sfh(url,soup,domain_name))\r\n",
        "  features.append(submitting_to_email(soup))\r\n",
        "  features.append(abnormal_url(domain_name,url))\r\n",
        "  return features"
      ],
      "execution_count": null,
      "outputs": []
    },
    {
      "cell_type": "code",
      "metadata": {
        "colab": {
          "base_uri": "https://localhost:8080/"
        },
        "id": "Qfl26Vlo8nGa",
        "outputId": "be3a1ee4-0e31-411d-e6f4-fe6e4e63d4bf"
      },
      "source": [
        "features=AbnormalFeatures(features,url,domain_name,soup)\r\n",
        "print(features,sep=\"\\n\")"
      ],
      "execution_count": null,
      "outputs": [
        {
          "output_type": "stream",
          "text": [
            "[1, -1, 1, 1, 1, 1, 1, 1, 1, -1, 0, 1, 1, 0, 0, 1, 1]\n"
          ],
          "name": "stdout"
        }
      ]
    },
    {
      "cell_type": "code",
      "metadata": {
        "id": "wjnE5KGD_iqz"
      },
      "source": [
        "import requests"
      ],
      "execution_count": null,
      "outputs": []
    },
    {
      "cell_type": "code",
      "metadata": {
        "id": "xKWph2DL9D8K"
      },
      "source": [
        "def HTMLAndJSFeatures(features,response):\r\n",
        "  features.append(forwarding(response))\r\n",
        "  features.append(mouseOver(response))\r\n",
        "  features.append(rightClick(response))\r\n",
        "  features.append(iframe(response))\r\n",
        "  return features"
      ],
      "execution_count": null,
      "outputs": []
    },
    {
      "cell_type": "code",
      "metadata": {
        "colab": {
          "base_uri": "https://localhost:8080/"
        },
        "id": "dag56uJeAYzm",
        "outputId": "ad82073e-c7b4-4248-b5fc-728d8968d83b"
      },
      "source": [
        "response=requests.get(url)\r\n",
        "features=HTMLAndJSFeatures(features,response)\r\n",
        "print(features,sep=\"\\n\")"
      ],
      "execution_count": null,
      "outputs": [
        {
          "output_type": "stream",
          "text": [
            "[1, -1, 1, 1, 1, 1, 1, 1, 1, -1, 0, 1, 1, 0, 0, 1, 1, 1, 1, 1, -1]\n"
          ],
          "name": "stdout"
        }
      ]
    },
    {
      "cell_type": "code",
      "metadata": {
        "id": "XMsIcS91AlfL"
      },
      "source": [
        "def DomainBasedFeatures(features,url):\r\n",
        "  dns=1\r\n",
        "  try:\r\n",
        "    domain_name = whois.whois(urlparse(url).netloc)\r\n",
        "  except:\r\n",
        "    dns = -1\r\n",
        "  features.append(-1 if dns==-1 else age_of_domain(domain_name))\r\n",
        "  features.append(dns)\r\n",
        "  features.append(web_traffic(url))\r\n",
        "  features.append(google_index(url))\r\n",
        "  features.append(statistical_report(url,getDomain(url)))\r\n",
        "  return features"
      ],
      "execution_count": null,
      "outputs": []
    },
    {
      "cell_type": "code",
      "metadata": {
        "id": "T5Hcnh7KEjyX"
      },
      "source": [
        "def getFeatures(url):\r\n",
        "  features=[]\r\n",
        "  soup=BeautifulSoup(urllib.request.urlopen(url))\r\n",
        "  domain_name=getDomain(url)\r\n",
        "  response = requests.get(url)\r\n",
        "  features=AddressBarFeatures(url,domain_name,soup)\r\n",
        "  features=AbnormalFeatures(features,url,domain_name,soup)\r\n",
        "  features=HTMLAndJSFeatures(features,response)\r\n",
        "  features=DomainBasedFeatures(features,url)\r\n",
        "  return features"
      ],
      "execution_count": null,
      "outputs": []
    },
    {
      "cell_type": "code",
      "metadata": {
        "colab": {
          "base_uri": "https://localhost:8080/"
        },
        "id": "gVTGJbUlC1YV",
        "outputId": "e0da855e-7136-4ac1-bfa6-b5c53e771341"
      },
      "source": [
        "features=DomainBasedFeatures(features,url)\r\n",
        "print(features,sep=\"\\n\")"
      ],
      "execution_count": null,
      "outputs": [
        {
          "output_type": "stream",
          "text": [
            "[1, -1, 1, 1, 1, 1, 1, 1, 1, -1, 0, 1, 1, 0, 0, 1, 1, 1, 1, 1, -1, 1, 1, 1, 1, -1]\n"
          ],
          "name": "stdout"
        }
      ]
    },
    {
      "cell_type": "code",
      "metadata": {
        "colab": {
          "base_uri": "https://localhost:8080/"
        },
        "id": "xIfIhK0FHDz_",
        "outputId": "e087c8e3-530e-4b6f-da4e-750d7389cffd"
      },
      "source": [
        "features=[]\r\n",
        "url1=\"https://github.com/shreyagopal/Phishing-Website-Detection-by-Machine-Learning-Techniques/\"\r\n",
        "url2=\"https://app.slack.com/client/T01MQKDQGVD/C01N5CR8QD8\"\r\n",
        "features.append(getFeatures(url1))\r\n",
        "features.append(getFeatures(url2))\r\n",
        "print(features,sep=\"\\n\")"
      ],
      "execution_count": null,
      "outputs": [
        {
          "output_type": "stream",
          "text": [
            "[[1, -1, 1, 1, 1, 1, 1, 1, 1, -1, 0, 1, 1, 0, 0, 1, 1, 1, 1, 1, -1, 1, 1, 1, 1, -1], [1, 1, 1, 1, 1, 1, 1, 1, -1, -1, 0, 1, -1, -1, 1, 1, 1, 1, 1, 1, -1, 1, 1, 1, 1, -1]]\n"
          ],
          "name": "stdout"
        }
      ]
    },
    {
      "cell_type": "code",
      "metadata": {
        "id": "nvcUu0VMVkP2"
      },
      "source": [
        "import pickle"
      ],
      "execution_count": null,
      "outputs": []
    },
    {
      "cell_type": "code",
      "metadata": {
        "id": "qohOKOoiEIbs",
        "colab": {
          "base_uri": "https://localhost:8080/"
        },
        "outputId": "b65c50a5-4ebd-49b9-ef3a-1ed983f49678"
      },
      "source": [
        "loaded_model = pickle.load(open(\"/content/drive/MyDrive/Datasets/XGBoostClassifier.pickle.dat\", \"rb\"))\r\n",
        "loaded_model"
      ],
      "execution_count": null,
      "outputs": [
        {
          "output_type": "execute_result",
          "data": {
            "text/plain": [
              "XGBClassifier(base_score=0.5, booster='gbtree', colsample_bylevel=1,\n",
              "              colsample_bynode=1, colsample_bytree=1, gamma=0,\n",
              "              learning_rate=0.2, max_delta_step=0, max_depth=7,\n",
              "              min_child_weight=1, missing=nan, n_estimators=100, n_jobs=1,\n",
              "              nthread=None, objective='binary:logistic', random_state=0,\n",
              "              reg_alpha=0, reg_lambda=1, scale_pos_weight=1, seed=None,\n",
              "              silent=None, subsample=1, verbosity=1)"
            ]
          },
          "metadata": {
            "tags": []
          },
          "execution_count": 69
        }
      ]
    },
    {
      "cell_type": "code",
      "metadata": {
        "colab": {
          "base_uri": "https://localhost:8080/"
        },
        "id": "E3KNhRMhVoCN",
        "outputId": "2f5b4829-d0d7-4ad0-9722-a89c3731afed"
      },
      "source": [
        "features"
      ],
      "execution_count": null,
      "outputs": [
        {
          "output_type": "execute_result",
          "data": {
            "text/plain": [
              "[[1,\n",
              "  -1,\n",
              "  1,\n",
              "  1,\n",
              "  1,\n",
              "  1,\n",
              "  1,\n",
              "  1,\n",
              "  1,\n",
              "  -1,\n",
              "  0,\n",
              "  1,\n",
              "  1,\n",
              "  0,\n",
              "  0,\n",
              "  1,\n",
              "  1,\n",
              "  1,\n",
              "  1,\n",
              "  1,\n",
              "  -1,\n",
              "  1,\n",
              "  1,\n",
              "  1,\n",
              "  1,\n",
              "  -1],\n",
              " [1,\n",
              "  1,\n",
              "  1,\n",
              "  1,\n",
              "  1,\n",
              "  1,\n",
              "  1,\n",
              "  1,\n",
              "  -1,\n",
              "  -1,\n",
              "  0,\n",
              "  1,\n",
              "  -1,\n",
              "  -1,\n",
              "  1,\n",
              "  1,\n",
              "  1,\n",
              "  1,\n",
              "  1,\n",
              "  1,\n",
              "  -1,\n",
              "  1,\n",
              "  1,\n",
              "  1,\n",
              "  1,\n",
              "  -1]]"
            ]
          },
          "metadata": {
            "tags": []
          },
          "execution_count": 70
        }
      ]
    },
    {
      "cell_type": "code",
      "metadata": {
        "id": "XF4Zha5zYv7n"
      },
      "source": [
        "import pandas as pd"
      ],
      "execution_count": null,
      "outputs": []
    },
    {
      "cell_type": "code",
      "metadata": {
        "id": "JblfP3z0Yz91"
      },
      "source": [
        "data=pd.DataFrame(columns=['having_IP_Address', 'URL_Length', 'Shortining_Service', 'having_At_Symbol', 'double_slash_redirecting', 'Prefix_Suffix', 'having_Sub_Domain', 'SSLfinal_State', 'Domain_registeration_length', 'Favicon', 'HTTPS_token', 'Request_URL', 'URL_of_Anchor', 'Links_in_tags', 'SFH', 'Submitting_to_email', 'Abnormal_URL', 'Redirect', 'on_mouseover', 'RightClick', 'Iframe', 'age_of_domain', 'DNSRecord', 'web_traffic', 'Google_Index', 'Statistical_report'],dtype=int )"
      ],
      "execution_count": null,
      "outputs": []
    },
    {
      "cell_type": "code",
      "metadata": {
        "colab": {
          "base_uri": "https://localhost:8080/",
          "height": 67
        },
        "id": "lKHpzEXdaEb9",
        "outputId": "271a72f0-b44f-4d45-86ac-1f97ee030deb"
      },
      "source": [
        "data"
      ],
      "execution_count": null,
      "outputs": [
        {
          "output_type": "execute_result",
          "data": {
            "text/html": [
              "<div>\n",
              "<style scoped>\n",
              "    .dataframe tbody tr th:only-of-type {\n",
              "        vertical-align: middle;\n",
              "    }\n",
              "\n",
              "    .dataframe tbody tr th {\n",
              "        vertical-align: top;\n",
              "    }\n",
              "\n",
              "    .dataframe thead th {\n",
              "        text-align: right;\n",
              "    }\n",
              "</style>\n",
              "<table border=\"1\" class=\"dataframe\">\n",
              "  <thead>\n",
              "    <tr style=\"text-align: right;\">\n",
              "      <th></th>\n",
              "      <th>having_IP_Address</th>\n",
              "      <th>URL_Length</th>\n",
              "      <th>Shortining_Service</th>\n",
              "      <th>having_At_Symbol</th>\n",
              "      <th>double_slash_redirecting</th>\n",
              "      <th>Prefix_Suffix</th>\n",
              "      <th>having_Sub_Domain</th>\n",
              "      <th>SSLfinal_State</th>\n",
              "      <th>Domain_registeration_length</th>\n",
              "      <th>Favicon</th>\n",
              "      <th>HTTPS_token</th>\n",
              "      <th>Request_URL</th>\n",
              "      <th>URL_of_Anchor</th>\n",
              "      <th>Links_in_tags</th>\n",
              "      <th>SFH</th>\n",
              "      <th>Submitting_to_email</th>\n",
              "      <th>Abnormal_URL</th>\n",
              "      <th>Redirect</th>\n",
              "      <th>on_mouseover</th>\n",
              "      <th>RightClick</th>\n",
              "      <th>Iframe</th>\n",
              "      <th>age_of_domain</th>\n",
              "      <th>DNSRecord</th>\n",
              "      <th>web_traffic</th>\n",
              "      <th>Google_Index</th>\n",
              "      <th>Statistical_report</th>\n",
              "    </tr>\n",
              "  </thead>\n",
              "  <tbody>\n",
              "  </tbody>\n",
              "</table>\n",
              "</div>"
            ],
            "text/plain": [
              "Empty DataFrame\n",
              "Columns: [having_IP_Address, URL_Length, Shortining_Service, having_At_Symbol, double_slash_redirecting, Prefix_Suffix, having_Sub_Domain, SSLfinal_State, Domain_registeration_length, Favicon, HTTPS_token, Request_URL, URL_of_Anchor, Links_in_tags, SFH, Submitting_to_email, Abnormal_URL, Redirect, on_mouseover, RightClick, Iframe, age_of_domain, DNSRecord, web_traffic, Google_Index, Statistical_report]\n",
              "Index: []"
            ]
          },
          "metadata": {
            "tags": []
          },
          "execution_count": 78
        }
      ]
    },
    {
      "cell_type": "code",
      "metadata": {
        "id": "fkr_t5cbcI_v"
      },
      "source": [
        "data.loc[len(data.index)]=features[0]\r\n",
        "data.loc[len(data.index)]=features[1]"
      ],
      "execution_count": null,
      "outputs": []
    },
    {
      "cell_type": "code",
      "metadata": {
        "colab": {
          "base_uri": "https://localhost:8080/",
          "height": 127
        },
        "id": "ma5OzuxpcVh9",
        "outputId": "732cf540-82eb-4172-c743-6e7112dd0b05"
      },
      "source": [
        "data"
      ],
      "execution_count": null,
      "outputs": [
        {
          "output_type": "execute_result",
          "data": {
            "text/html": [
              "<div>\n",
              "<style scoped>\n",
              "    .dataframe tbody tr th:only-of-type {\n",
              "        vertical-align: middle;\n",
              "    }\n",
              "\n",
              "    .dataframe tbody tr th {\n",
              "        vertical-align: top;\n",
              "    }\n",
              "\n",
              "    .dataframe thead th {\n",
              "        text-align: right;\n",
              "    }\n",
              "</style>\n",
              "<table border=\"1\" class=\"dataframe\">\n",
              "  <thead>\n",
              "    <tr style=\"text-align: right;\">\n",
              "      <th></th>\n",
              "      <th>having_IP_Address</th>\n",
              "      <th>URL_Length</th>\n",
              "      <th>Shortining_Service</th>\n",
              "      <th>having_At_Symbol</th>\n",
              "      <th>double_slash_redirecting</th>\n",
              "      <th>Prefix_Suffix</th>\n",
              "      <th>having_Sub_Domain</th>\n",
              "      <th>SSLfinal_State</th>\n",
              "      <th>Domain_registeration_length</th>\n",
              "      <th>Favicon</th>\n",
              "      <th>HTTPS_token</th>\n",
              "      <th>Request_URL</th>\n",
              "      <th>URL_of_Anchor</th>\n",
              "      <th>Links_in_tags</th>\n",
              "      <th>SFH</th>\n",
              "      <th>Submitting_to_email</th>\n",
              "      <th>Abnormal_URL</th>\n",
              "      <th>Redirect</th>\n",
              "      <th>on_mouseover</th>\n",
              "      <th>RightClick</th>\n",
              "      <th>Iframe</th>\n",
              "      <th>age_of_domain</th>\n",
              "      <th>DNSRecord</th>\n",
              "      <th>web_traffic</th>\n",
              "      <th>Google_Index</th>\n",
              "      <th>Statistical_report</th>\n",
              "    </tr>\n",
              "  </thead>\n",
              "  <tbody>\n",
              "    <tr>\n",
              "      <th>0</th>\n",
              "      <td>1</td>\n",
              "      <td>-1</td>\n",
              "      <td>1</td>\n",
              "      <td>1</td>\n",
              "      <td>1</td>\n",
              "      <td>1</td>\n",
              "      <td>1</td>\n",
              "      <td>1</td>\n",
              "      <td>1</td>\n",
              "      <td>-1</td>\n",
              "      <td>0</td>\n",
              "      <td>1</td>\n",
              "      <td>1</td>\n",
              "      <td>0</td>\n",
              "      <td>0</td>\n",
              "      <td>1</td>\n",
              "      <td>1</td>\n",
              "      <td>1</td>\n",
              "      <td>1</td>\n",
              "      <td>1</td>\n",
              "      <td>-1</td>\n",
              "      <td>1</td>\n",
              "      <td>1</td>\n",
              "      <td>1</td>\n",
              "      <td>1</td>\n",
              "      <td>-1</td>\n",
              "    </tr>\n",
              "    <tr>\n",
              "      <th>1</th>\n",
              "      <td>1</td>\n",
              "      <td>1</td>\n",
              "      <td>1</td>\n",
              "      <td>1</td>\n",
              "      <td>1</td>\n",
              "      <td>1</td>\n",
              "      <td>1</td>\n",
              "      <td>1</td>\n",
              "      <td>-1</td>\n",
              "      <td>-1</td>\n",
              "      <td>0</td>\n",
              "      <td>1</td>\n",
              "      <td>-1</td>\n",
              "      <td>-1</td>\n",
              "      <td>1</td>\n",
              "      <td>1</td>\n",
              "      <td>1</td>\n",
              "      <td>1</td>\n",
              "      <td>1</td>\n",
              "      <td>1</td>\n",
              "      <td>-1</td>\n",
              "      <td>1</td>\n",
              "      <td>1</td>\n",
              "      <td>1</td>\n",
              "      <td>1</td>\n",
              "      <td>-1</td>\n",
              "    </tr>\n",
              "  </tbody>\n",
              "</table>\n",
              "</div>"
            ],
            "text/plain": [
              "   having_IP_Address  URL_Length  ...  Google_Index  Statistical_report\n",
              "0                  1          -1  ...             1                  -1\n",
              "1                  1           1  ...             1                  -1\n",
              "\n",
              "[2 rows x 26 columns]"
            ]
          },
          "metadata": {
            "tags": []
          },
          "execution_count": 80
        }
      ]
    },
    {
      "cell_type": "code",
      "metadata": {
        "colab": {
          "base_uri": "https://localhost:8080/"
        },
        "id": "RqFsyI-1cZAV",
        "outputId": "1eca51b9-55fe-4394-8cd7-b6dcb854d737"
      },
      "source": [
        "data.shape"
      ],
      "execution_count": null,
      "outputs": [
        {
          "output_type": "execute_result",
          "data": {
            "text/plain": [
              "(2, 26)"
            ]
          },
          "metadata": {
            "tags": []
          },
          "execution_count": 81
        }
      ]
    },
    {
      "cell_type": "code",
      "metadata": {
        "colab": {
          "base_uri": "https://localhost:8080/",
          "height": 307
        },
        "id": "_vZ9al-JcbiB",
        "outputId": "75c8fef0-5ca7-418b-e5a8-e1d44ea778ee"
      },
      "source": [
        "data.describe()"
      ],
      "execution_count": null,
      "outputs": [
        {
          "output_type": "execute_result",
          "data": {
            "text/html": [
              "<div>\n",
              "<style scoped>\n",
              "    .dataframe tbody tr th:only-of-type {\n",
              "        vertical-align: middle;\n",
              "    }\n",
              "\n",
              "    .dataframe tbody tr th {\n",
              "        vertical-align: top;\n",
              "    }\n",
              "\n",
              "    .dataframe thead th {\n",
              "        text-align: right;\n",
              "    }\n",
              "</style>\n",
              "<table border=\"1\" class=\"dataframe\">\n",
              "  <thead>\n",
              "    <tr style=\"text-align: right;\">\n",
              "      <th></th>\n",
              "      <th>having_IP_Address</th>\n",
              "      <th>URL_Length</th>\n",
              "      <th>Shortining_Service</th>\n",
              "      <th>having_At_Symbol</th>\n",
              "      <th>double_slash_redirecting</th>\n",
              "      <th>Prefix_Suffix</th>\n",
              "      <th>having_Sub_Domain</th>\n",
              "      <th>SSLfinal_State</th>\n",
              "      <th>Domain_registeration_length</th>\n",
              "      <th>Favicon</th>\n",
              "      <th>HTTPS_token</th>\n",
              "      <th>Request_URL</th>\n",
              "      <th>URL_of_Anchor</th>\n",
              "      <th>Links_in_tags</th>\n",
              "      <th>SFH</th>\n",
              "      <th>Submitting_to_email</th>\n",
              "      <th>Abnormal_URL</th>\n",
              "      <th>Redirect</th>\n",
              "      <th>on_mouseover</th>\n",
              "      <th>RightClick</th>\n",
              "      <th>Iframe</th>\n",
              "      <th>age_of_domain</th>\n",
              "      <th>DNSRecord</th>\n",
              "      <th>web_traffic</th>\n",
              "      <th>Google_Index</th>\n",
              "      <th>Statistical_report</th>\n",
              "    </tr>\n",
              "  </thead>\n",
              "  <tbody>\n",
              "    <tr>\n",
              "      <th>count</th>\n",
              "      <td>2.0</td>\n",
              "      <td>2.000000</td>\n",
              "      <td>2.0</td>\n",
              "      <td>2.0</td>\n",
              "      <td>2.0</td>\n",
              "      <td>2.0</td>\n",
              "      <td>2.0</td>\n",
              "      <td>2.0</td>\n",
              "      <td>2.000000</td>\n",
              "      <td>2.0</td>\n",
              "      <td>2.0</td>\n",
              "      <td>2.0</td>\n",
              "      <td>2.000000</td>\n",
              "      <td>2.000000</td>\n",
              "      <td>2.000000</td>\n",
              "      <td>2.0</td>\n",
              "      <td>2.0</td>\n",
              "      <td>2.0</td>\n",
              "      <td>2.0</td>\n",
              "      <td>2.0</td>\n",
              "      <td>2.0</td>\n",
              "      <td>2.0</td>\n",
              "      <td>2.0</td>\n",
              "      <td>2.0</td>\n",
              "      <td>2.0</td>\n",
              "      <td>2.0</td>\n",
              "    </tr>\n",
              "    <tr>\n",
              "      <th>mean</th>\n",
              "      <td>1.0</td>\n",
              "      <td>0.000000</td>\n",
              "      <td>1.0</td>\n",
              "      <td>1.0</td>\n",
              "      <td>1.0</td>\n",
              "      <td>1.0</td>\n",
              "      <td>1.0</td>\n",
              "      <td>1.0</td>\n",
              "      <td>0.000000</td>\n",
              "      <td>-1.0</td>\n",
              "      <td>0.0</td>\n",
              "      <td>1.0</td>\n",
              "      <td>0.000000</td>\n",
              "      <td>-0.500000</td>\n",
              "      <td>0.500000</td>\n",
              "      <td>1.0</td>\n",
              "      <td>1.0</td>\n",
              "      <td>1.0</td>\n",
              "      <td>1.0</td>\n",
              "      <td>1.0</td>\n",
              "      <td>-1.0</td>\n",
              "      <td>1.0</td>\n",
              "      <td>1.0</td>\n",
              "      <td>1.0</td>\n",
              "      <td>1.0</td>\n",
              "      <td>-1.0</td>\n",
              "    </tr>\n",
              "    <tr>\n",
              "      <th>std</th>\n",
              "      <td>0.0</td>\n",
              "      <td>1.414214</td>\n",
              "      <td>0.0</td>\n",
              "      <td>0.0</td>\n",
              "      <td>0.0</td>\n",
              "      <td>0.0</td>\n",
              "      <td>0.0</td>\n",
              "      <td>0.0</td>\n",
              "      <td>1.414214</td>\n",
              "      <td>0.0</td>\n",
              "      <td>0.0</td>\n",
              "      <td>0.0</td>\n",
              "      <td>1.414214</td>\n",
              "      <td>0.707107</td>\n",
              "      <td>0.707107</td>\n",
              "      <td>0.0</td>\n",
              "      <td>0.0</td>\n",
              "      <td>0.0</td>\n",
              "      <td>0.0</td>\n",
              "      <td>0.0</td>\n",
              "      <td>0.0</td>\n",
              "      <td>0.0</td>\n",
              "      <td>0.0</td>\n",
              "      <td>0.0</td>\n",
              "      <td>0.0</td>\n",
              "      <td>0.0</td>\n",
              "    </tr>\n",
              "    <tr>\n",
              "      <th>min</th>\n",
              "      <td>1.0</td>\n",
              "      <td>-1.000000</td>\n",
              "      <td>1.0</td>\n",
              "      <td>1.0</td>\n",
              "      <td>1.0</td>\n",
              "      <td>1.0</td>\n",
              "      <td>1.0</td>\n",
              "      <td>1.0</td>\n",
              "      <td>-1.000000</td>\n",
              "      <td>-1.0</td>\n",
              "      <td>0.0</td>\n",
              "      <td>1.0</td>\n",
              "      <td>-1.000000</td>\n",
              "      <td>-1.000000</td>\n",
              "      <td>0.000000</td>\n",
              "      <td>1.0</td>\n",
              "      <td>1.0</td>\n",
              "      <td>1.0</td>\n",
              "      <td>1.0</td>\n",
              "      <td>1.0</td>\n",
              "      <td>-1.0</td>\n",
              "      <td>1.0</td>\n",
              "      <td>1.0</td>\n",
              "      <td>1.0</td>\n",
              "      <td>1.0</td>\n",
              "      <td>-1.0</td>\n",
              "    </tr>\n",
              "    <tr>\n",
              "      <th>25%</th>\n",
              "      <td>1.0</td>\n",
              "      <td>-0.500000</td>\n",
              "      <td>1.0</td>\n",
              "      <td>1.0</td>\n",
              "      <td>1.0</td>\n",
              "      <td>1.0</td>\n",
              "      <td>1.0</td>\n",
              "      <td>1.0</td>\n",
              "      <td>-0.500000</td>\n",
              "      <td>-1.0</td>\n",
              "      <td>0.0</td>\n",
              "      <td>1.0</td>\n",
              "      <td>-0.500000</td>\n",
              "      <td>-0.750000</td>\n",
              "      <td>0.250000</td>\n",
              "      <td>1.0</td>\n",
              "      <td>1.0</td>\n",
              "      <td>1.0</td>\n",
              "      <td>1.0</td>\n",
              "      <td>1.0</td>\n",
              "      <td>-1.0</td>\n",
              "      <td>1.0</td>\n",
              "      <td>1.0</td>\n",
              "      <td>1.0</td>\n",
              "      <td>1.0</td>\n",
              "      <td>-1.0</td>\n",
              "    </tr>\n",
              "    <tr>\n",
              "      <th>50%</th>\n",
              "      <td>1.0</td>\n",
              "      <td>0.000000</td>\n",
              "      <td>1.0</td>\n",
              "      <td>1.0</td>\n",
              "      <td>1.0</td>\n",
              "      <td>1.0</td>\n",
              "      <td>1.0</td>\n",
              "      <td>1.0</td>\n",
              "      <td>0.000000</td>\n",
              "      <td>-1.0</td>\n",
              "      <td>0.0</td>\n",
              "      <td>1.0</td>\n",
              "      <td>0.000000</td>\n",
              "      <td>-0.500000</td>\n",
              "      <td>0.500000</td>\n",
              "      <td>1.0</td>\n",
              "      <td>1.0</td>\n",
              "      <td>1.0</td>\n",
              "      <td>1.0</td>\n",
              "      <td>1.0</td>\n",
              "      <td>-1.0</td>\n",
              "      <td>1.0</td>\n",
              "      <td>1.0</td>\n",
              "      <td>1.0</td>\n",
              "      <td>1.0</td>\n",
              "      <td>-1.0</td>\n",
              "    </tr>\n",
              "    <tr>\n",
              "      <th>75%</th>\n",
              "      <td>1.0</td>\n",
              "      <td>0.500000</td>\n",
              "      <td>1.0</td>\n",
              "      <td>1.0</td>\n",
              "      <td>1.0</td>\n",
              "      <td>1.0</td>\n",
              "      <td>1.0</td>\n",
              "      <td>1.0</td>\n",
              "      <td>0.500000</td>\n",
              "      <td>-1.0</td>\n",
              "      <td>0.0</td>\n",
              "      <td>1.0</td>\n",
              "      <td>0.500000</td>\n",
              "      <td>-0.250000</td>\n",
              "      <td>0.750000</td>\n",
              "      <td>1.0</td>\n",
              "      <td>1.0</td>\n",
              "      <td>1.0</td>\n",
              "      <td>1.0</td>\n",
              "      <td>1.0</td>\n",
              "      <td>-1.0</td>\n",
              "      <td>1.0</td>\n",
              "      <td>1.0</td>\n",
              "      <td>1.0</td>\n",
              "      <td>1.0</td>\n",
              "      <td>-1.0</td>\n",
              "    </tr>\n",
              "    <tr>\n",
              "      <th>max</th>\n",
              "      <td>1.0</td>\n",
              "      <td>1.000000</td>\n",
              "      <td>1.0</td>\n",
              "      <td>1.0</td>\n",
              "      <td>1.0</td>\n",
              "      <td>1.0</td>\n",
              "      <td>1.0</td>\n",
              "      <td>1.0</td>\n",
              "      <td>1.000000</td>\n",
              "      <td>-1.0</td>\n",
              "      <td>0.0</td>\n",
              "      <td>1.0</td>\n",
              "      <td>1.000000</td>\n",
              "      <td>0.000000</td>\n",
              "      <td>1.000000</td>\n",
              "      <td>1.0</td>\n",
              "      <td>1.0</td>\n",
              "      <td>1.0</td>\n",
              "      <td>1.0</td>\n",
              "      <td>1.0</td>\n",
              "      <td>-1.0</td>\n",
              "      <td>1.0</td>\n",
              "      <td>1.0</td>\n",
              "      <td>1.0</td>\n",
              "      <td>1.0</td>\n",
              "      <td>-1.0</td>\n",
              "    </tr>\n",
              "  </tbody>\n",
              "</table>\n",
              "</div>"
            ],
            "text/plain": [
              "       having_IP_Address  URL_Length  ...  Google_Index  Statistical_report\n",
              "count                2.0    2.000000  ...           2.0                 2.0\n",
              "mean                 1.0    0.000000  ...           1.0                -1.0\n",
              "std                  0.0    1.414214  ...           0.0                 0.0\n",
              "min                  1.0   -1.000000  ...           1.0                -1.0\n",
              "25%                  1.0   -0.500000  ...           1.0                -1.0\n",
              "50%                  1.0    0.000000  ...           1.0                -1.0\n",
              "75%                  1.0    0.500000  ...           1.0                -1.0\n",
              "max                  1.0    1.000000  ...           1.0                -1.0\n",
              "\n",
              "[8 rows x 26 columns]"
            ]
          },
          "metadata": {
            "tags": []
          },
          "execution_count": 82
        }
      ]
    },
    {
      "cell_type": "code",
      "metadata": {
        "colab": {
          "base_uri": "https://localhost:8080/"
        },
        "id": "jGRhwxgSiGWQ",
        "outputId": "2a925e9a-dc72-4e7f-c879-b2ec897a69f3"
      },
      "source": [
        "data.info()"
      ],
      "execution_count": null,
      "outputs": [
        {
          "output_type": "stream",
          "text": [
            "<class 'pandas.core.frame.DataFrame'>\n",
            "Int64Index: 2 entries, 0 to 1\n",
            "Data columns (total 26 columns):\n",
            " #   Column                       Non-Null Count  Dtype\n",
            "---  ------                       --------------  -----\n",
            " 0   having_IP_Address            2 non-null      int64\n",
            " 1   URL_Length                   2 non-null      int64\n",
            " 2   Shortining_Service           2 non-null      int64\n",
            " 3   having_At_Symbol             2 non-null      int64\n",
            " 4   double_slash_redirecting     2 non-null      int64\n",
            " 5   Prefix_Suffix                2 non-null      int64\n",
            " 6   having_Sub_Domain            2 non-null      int64\n",
            " 7   SSLfinal_State               2 non-null      int64\n",
            " 8   Domain_registeration_length  2 non-null      int64\n",
            " 9   Favicon                      2 non-null      int64\n",
            " 10  HTTPS_token                  2 non-null      int64\n",
            " 11  Request_URL                  2 non-null      int64\n",
            " 12  URL_of_Anchor                2 non-null      int64\n",
            " 13  Links_in_tags                2 non-null      int64\n",
            " 14  SFH                          2 non-null      int64\n",
            " 15  Submitting_to_email          2 non-null      int64\n",
            " 16  Abnormal_URL                 2 non-null      int64\n",
            " 17  Redirect                     2 non-null      int64\n",
            " 18  on_mouseover                 2 non-null      int64\n",
            " 19  RightClick                   2 non-null      int64\n",
            " 20  Iframe                       2 non-null      int64\n",
            " 21  age_of_domain                2 non-null      int64\n",
            " 22  DNSRecord                    2 non-null      int64\n",
            " 23  web_traffic                  2 non-null      int64\n",
            " 24  Google_Index                 2 non-null      int64\n",
            " 25  Statistical_report           2 non-null      int64\n",
            "dtypes: int64(26)\n",
            "memory usage: 432.0 bytes\n"
          ],
          "name": "stdout"
        }
      ]
    },
    {
      "cell_type": "code",
      "metadata": {
        "colab": {
          "base_uri": "https://localhost:8080/"
        },
        "id": "STal9a_liJhP",
        "outputId": "b39b01ea-7bd8-4098-c0eb-fd6ef52c5435"
      },
      "source": [
        "loaded_model.predict(data)"
      ],
      "execution_count": null,
      "outputs": [
        {
          "output_type": "execute_result",
          "data": {
            "text/plain": [
              "array([1, 1])"
            ]
          },
          "metadata": {
            "tags": []
          },
          "execution_count": 84
        }
      ]
    },
    {
      "cell_type": "code",
      "metadata": {
        "colab": {
          "base_uri": "https://localhost:8080/"
        },
        "id": "APBulhKaiQAv",
        "outputId": "6e3e2feb-4ca0-45f9-c27c-613339f59fe0"
      },
      "source": [
        "url=\"https://twitter.com/imthepk/status/1332272360100044800\"\r\n",
        "soup=BeautifulSoup(urllib.request.urlopen(url))\r\n",
        "domain_name=getDomain(url)\r\n",
        "features=AddressBarFeatures(url,domain_name,soup)\r\n",
        "features=AbnormalFeatures(features,url,domain_name,soup)\r\n",
        "features=HTMLAndJSFeatures(features,response)\r\n",
        "features=DomainBasedFeatures(features,url)\r\n",
        "print(features,sep=\"\\n\")"
      ],
      "execution_count": null,
      "outputs": [
        {
          "output_type": "stream",
          "text": [
            "[1, 0, 1, 1, 1, 1, 1, 1, -1, -1, 0, 1, 0, 0, -1, 1, 1, 1, 1, 1, -1, 1, 1, 1, 1, -1]\n"
          ],
          "name": "stdout"
        }
      ]
    },
    {
      "cell_type": "code",
      "metadata": {
        "id": "8eyd73JYjaDq"
      },
      "source": [
        "data.loc[len(data.index)]=[1, 0, 1, 1, 1, 1, 1, 1, -1, -1, 0, 1, 0, 0, -1, 1, 1, 1, 1, 1, -1, 1, 1, 1, 1, -1]"
      ],
      "execution_count": null,
      "outputs": []
    },
    {
      "cell_type": "code",
      "metadata": {
        "colab": {
          "base_uri": "https://localhost:8080/"
        },
        "id": "T7ImUNp0jhcB",
        "outputId": "41b78efc-9faa-4b65-bd03-e843f0f8ddc2"
      },
      "source": [
        "loaded_model.predict(data)"
      ],
      "execution_count": null,
      "outputs": [
        {
          "output_type": "execute_result",
          "data": {
            "text/plain": [
              "array([1, 1])"
            ]
          },
          "metadata": {
            "tags": []
          },
          "execution_count": 169
        }
      ]
    },
    {
      "cell_type": "code",
      "metadata": {
        "colab": {
          "base_uri": "https://localhost:8080/"
        },
        "id": "c8LAk9VkjkLz",
        "outputId": "694e5ad1-d3bb-4818-c33f-f1ad99b08fc0"
      },
      "source": [
        "url=\"\thttp://atifrao.000webhostapp.com/\"\r\n",
        "soup=BeautifulSoup(urllib.request.urlopen(url))\r\n",
        "domain_name=getDomain(url)\r\n",
        "features=AddressBarFeatures(url,domain_name,soup)\r\n",
        "features=AbnormalFeatures(features,url,domain_name,soup)\r\n",
        "features=HTMLAndJSFeatures(features,response)\r\n",
        "features=DomainBasedFeatures(features,url)\r\n",
        "print(features,sep=\"\\n\")"
      ],
      "execution_count": null,
      "outputs": [
        {
          "output_type": "stream",
          "text": [
            "[1, 1, 1, 1, 1, 1, 1, -1, -1, 1, 0, -1, -1, -1, 1, 1, 1, 1, 1, 1, -1, -1, 1, -1, 1, -1]\n"
          ],
          "name": "stdout"
        }
      ]
    },
    {
      "cell_type": "code",
      "metadata": {
        "id": "fIl8qCS1ks_R"
      },
      "source": [
        "data.loc[len(data.index)]=[1, 1, 1, 1, 1, 1, 1, -1, -1, 1, 0, -1, -1, -1, 1, 1, 1, 1, 1, 1, -1, -1, 1, -1, 1, -1]"
      ],
      "execution_count": null,
      "outputs": []
    },
    {
      "cell_type": "code",
      "metadata": {
        "id": "dSh9eywJkz4U",
        "colab": {
          "base_uri": "https://localhost:8080/"
        },
        "outputId": "e01b9cab-6a60-41c1-83e6-1dbad0571a78"
      },
      "source": [
        "loaded_model.predict(data)"
      ],
      "execution_count": null,
      "outputs": [
        {
          "output_type": "execute_result",
          "data": {
            "text/plain": [
              "array([ 1,  1, -1])"
            ]
          },
          "metadata": {
            "tags": []
          },
          "execution_count": 176
        }
      ]
    }
  ]
}